{
  "nbformat": 4,
  "nbformat_minor": 0,
  "metadata": {
    "colab": {
      "provenance": [],
      "authorship_tag": "ABX9TyP/IxS+521ISPkZ37gSS5GG",
      "include_colab_link": true
    },
    "kernelspec": {
      "name": "python3",
      "display_name": "Python 3"
    },
    "language_info": {
      "name": "python"
    },
    "gpuClass": "standard"
  },
  "cells": [
    {
      "cell_type": "markdown",
      "metadata": {
        "id": "view-in-github",
        "colab_type": "text"
      },
      "source": [
        "<a href=\"https://colab.research.google.com/github/mauks37/CNN_RX_torax/blob/main/Dimiuir_224x224_mix_data_2.ipynb\" target=\"_parent\"><img src=\"https://colab.research.google.com/assets/colab-badge.svg\" alt=\"Open In Colab\"/></a>"
      ]
    },
    {
      "cell_type": "code",
      "metadata": {
        "id": "kW5tOP0hQBZu"
      },
      "source": [
        "import numpy as np\n",
        "import matplotlib.pyplot as plt\n",
        "from matplotlib.image import imread\n",
        "import tensorflow as tf\n",
        "import cv2\n",
        "import random"
      ],
      "execution_count": null,
      "outputs": []
    },
    {
      "cell_type": "code",
      "metadata": {
        "colab": {
          "base_uri": "https://localhost:8080/"
        },
        "id": "b5qWqDjEQRX-",
        "outputId": "23c03d20-009c-40fd-e250-bd7be798ec0c"
      },
      "source": [
        "from google.colab import drive\n",
        "drive.mount('/content/drive')"
      ],
      "execution_count": null,
      "outputs": [
        {
          "output_type": "stream",
          "name": "stdout",
          "text": [
            "Mounted at /content/drive\n"
          ]
        }
      ]
    },
    {
      "cell_type": "code",
      "source": [
        "print(len(tf.io.gfile.listdir('/content/drive/My Drive/Colab Notebooks/Mestrado final/RXT nosso/covid')))"
      ],
      "metadata": {
        "colab": {
          "base_uri": "https://localhost:8080/"
        },
        "id": "SZljExsv02uR",
        "outputId": "0ffb72e9-e82f-421e-de88-f4af8bd073fc"
      },
      "execution_count": null,
      "outputs": [
        {
          "output_type": "stream",
          "name": "stdout",
          "text": [
            "189\n"
          ]
        }
      ]
    },
    {
      "cell_type": "code",
      "source": [
        "print(len(tf.io.gfile.listdir('/content/drive/My Drive/Colab Notebooks/Mestrado final/Curated X-Ray Dataset COVID/covid')))"
      ],
      "metadata": {
        "id": "wpktV7NrOX2k",
        "colab": {
          "base_uri": "https://localhost:8080/"
        },
        "outputId": "d4ea6dea-0c04-491c-b038-58b5837489e4"
      },
      "execution_count": null,
      "outputs": [
        {
          "output_type": "stream",
          "name": "stdout",
          "text": [
            "1281\n"
          ]
        }
      ]
    },
    {
      "cell_type": "code",
      "source": [
        "print(len(tf.io.gfile.listdir('/content/drive/My Drive/Colab Notebooks/Mestrado final/RXT nosso/dip')))"
      ],
      "metadata": {
        "colab": {
          "base_uri": "https://localhost:8080/"
        },
        "id": "nDLwrLwg2Qu-",
        "outputId": "e6a55836-5015-489a-b9b2-2911e6299e4d"
      },
      "execution_count": null,
      "outputs": [
        {
          "output_type": "stream",
          "name": "stdout",
          "text": [
            "308\n"
          ]
        }
      ]
    },
    {
      "cell_type": "code",
      "source": [
        "print(len(tf.io.gfile.listdir('/content/drive/My Drive/Colab Notebooks/Mestrado final/RXT nosso/normais')))"
      ],
      "metadata": {
        "colab": {
          "base_uri": "https://localhost:8080/"
        },
        "id": "qNIDHn8B2Q26",
        "outputId": "05fdea22-d17f-41e3-868e-590292a0eff5"
      },
      "execution_count": null,
      "outputs": [
        {
          "output_type": "stream",
          "name": "stdout",
          "text": [
            "382\n"
          ]
        }
      ]
    },
    {
      "cell_type": "code",
      "source": [
        "print(len(tf.io.gfile.listdir('/content/drive/My Drive/Colab Notebooks/Mestrado final/Curated X-Ray Dataset normais/normais')))"
      ],
      "metadata": {
        "id": "ksjlCd4pOyVM",
        "colab": {
          "base_uri": "https://localhost:8080/"
        },
        "outputId": "fd6102d1-70a3-4bcf-f810-d70de2ec30e9"
      },
      "execution_count": null,
      "outputs": [
        {
          "output_type": "stream",
          "name": "stdout",
          "text": [
            "3270\n"
          ]
        }
      ]
    },
    {
      "cell_type": "code",
      "source": [
        "print(len(tf.io.gfile.listdir('/content/drive/My Drive/Colab Notebooks/Mestrado final/RXT nosso/tuberculose')))"
      ],
      "metadata": {
        "colab": {
          "base_uri": "https://localhost:8080/"
        },
        "id": "eQ8dj0L51jBZ",
        "outputId": "c594f4a6-4587-452f-b763-37651fa030a8"
      },
      "execution_count": null,
      "outputs": [
        {
          "output_type": "stream",
          "name": "stdout",
          "text": [
            "165\n"
          ]
        }
      ]
    },
    {
      "cell_type": "code",
      "source": [
        "print(len(tf.io.gfile.listdir('/content/drive/My Drive/Colab Notebooks/Mestrado final/Mont-Shen Dataset TB')))"
      ],
      "metadata": {
        "id": "F9u2s3edPAHD",
        "colab": {
          "base_uri": "https://localhost:8080/"
        },
        "outputId": "52435eb1-60f8-42d4-b7af-f39a35ac06ba"
      },
      "execution_count": null,
      "outputs": [
        {
          "output_type": "stream",
          "name": "stdout",
          "text": [
            "394\n"
          ]
        }
      ]
    },
    {
      "cell_type": "code",
      "source": [
        "data_dir = '/content/drive/My Drive/Colab Notebooks/Mestrado final/RXT nosso'\n",
        "dest_dir = '/content/drive/My Drive/Colab Notebooks/Mestrado final/RXT 224x224 mix_data_2'"
      ],
      "metadata": {
        "id": "JCJKJmJrQRpO"
      },
      "execution_count": null,
      "outputs": []
    },
    {
      "cell_type": "code",
      "source": [
        "def diminui_224x224_nl (dir_origem, dir_destino, class_dir_name):\n",
        "\n",
        "  images_names = tf.io.gfile.listdir(dir_origem+'/'+class_dir_name)\n",
        "\n",
        "  for i in images_names:\n",
        "    img = cv2.imread(dir_origem+'/'+class_dir_name+'/'+i)\n",
        "    img = cv2.resize(img, (224, 224))\n",
        "    cv2.imwrite(dir_destino+'/'+class_dir_name+'/'+i, img)\n",
        "\n",
        "  print(len(tf.io.gfile.listdir(dir_origem+'/'+class_dir_name)))\n",
        "  print(len(tf.io.gfile.listdir(dir_destino+'/'+class_dir_name)))"
      ],
      "metadata": {
        "id": "WfQwje8abpBh"
      },
      "execution_count": null,
      "outputs": []
    },
    {
      "cell_type": "code",
      "source": [
        "diminui_224x224_nl(data_dir,dest_dir,'covid')"
      ],
      "metadata": {
        "id": "SmePzobCQRud",
        "colab": {
          "base_uri": "https://localhost:8080/"
        },
        "outputId": "ad40adc7-8689-434e-adf5-8dbf65bba871"
      },
      "execution_count": null,
      "outputs": [
        {
          "output_type": "stream",
          "name": "stdout",
          "text": [
            "189\n",
            "189\n"
          ]
        }
      ]
    },
    {
      "cell_type": "code",
      "source": [
        "diminui_224x224_nl(data_dir,dest_dir,'dip')"
      ],
      "metadata": {
        "id": "JgW2rHSoTCYw",
        "colab": {
          "base_uri": "https://localhost:8080/"
        },
        "outputId": "f0805764-a5ef-4c89-bace-e6d974491e97"
      },
      "execution_count": null,
      "outputs": [
        {
          "output_type": "stream",
          "name": "stdout",
          "text": [
            "308\n",
            "308\n"
          ]
        }
      ]
    },
    {
      "cell_type": "code",
      "source": [
        "diminui_224x224_nl(data_dir,dest_dir,'normais')"
      ],
      "metadata": {
        "id": "-sLc0s_OQRxf",
        "colab": {
          "base_uri": "https://localhost:8080/"
        },
        "outputId": "908c5db9-1da7-4056-b36c-715a2e329b60"
      },
      "execution_count": null,
      "outputs": [
        {
          "output_type": "stream",
          "name": "stdout",
          "text": [
            "382\n",
            "382\n"
          ]
        }
      ]
    },
    {
      "cell_type": "code",
      "source": [
        "diminui_224x224_nl(data_dir,dest_dir,'tuberculose')"
      ],
      "metadata": {
        "id": "dJPXeBbC4wh5",
        "colab": {
          "base_uri": "https://localhost:8080/"
        },
        "outputId": "b1979dae-a066-431b-9fdd-cd8f7a31a03d"
      },
      "execution_count": null,
      "outputs": [
        {
          "output_type": "stream",
          "name": "stdout",
          "text": [
            "165\n",
            "165\n"
          ]
        }
      ]
    },
    {
      "cell_type": "code",
      "source": [
        "data_dir_novo_covid = '/content/drive/My Drive/Colab Notebooks/Mestrado final/Curated X-Ray Dataset COVID/covid'"
      ],
      "metadata": {
        "id": "X1pEKHVIPxjy"
      },
      "execution_count": null,
      "outputs": []
    },
    {
      "cell_type": "code",
      "source": [
        "data_dir_novo_normais = '/content/drive/My Drive/Colab Notebooks/Mestrado final/Curated X-Ray Dataset normais/normais'"
      ],
      "metadata": {
        "id": "gETguB-APx6l"
      },
      "execution_count": null,
      "outputs": []
    },
    {
      "cell_type": "code",
      "source": [
        "data_dir_novo_tuberculose = '/content/drive/My Drive/Colab Notebooks/Mestrado final/Mont-Shen Dataset TB'"
      ],
      "metadata": {
        "id": "dN1SYN0pPx_g"
      },
      "execution_count": null,
      "outputs": []
    },
    {
      "cell_type": "code",
      "source": [
        "def diminui_224x224_mix_data_novo (dir_origem, dir_destino, novo_perc):\n",
        "\n",
        "  images_names = tf.io.gfile.listdir(dir_origem)\n",
        "\n",
        "  cut_point = np.around(len(images_names)*novo_perc).astype(int)\n",
        "\n",
        "  random.shuffle(images_names)\n",
        "\n",
        "  images = images_names[:cut_point]\n",
        "\n",
        "  for i in images:\n",
        "    img = cv2.imread(dir_origem+'/'+i)\n",
        "    img = cv2.resize(img, (224, 224))\n",
        "    cv2.imwrite(dir_destino+'/'+'N'+i, img)\n",
        "\n",
        "  print(len(tf.io.gfile.listdir(dir_origem)))\n",
        "  print(len(tf.io.gfile.listdir(dir_destino)))"
      ],
      "metadata": {
        "id": "9iB8nysmPh2I"
      },
      "execution_count": null,
      "outputs": []
    },
    {
      "cell_type": "code",
      "source": [
        "diminui_224x224_mix_data_novo(data_dir_novo_covid,dest_dir+'/covid',0.289)"
      ],
      "metadata": {
        "colab": {
          "base_uri": "https://localhost:8080/"
        },
        "id": "cQYYxSTUPrE-",
        "outputId": "25eee6ff-5da4-4162-b661-80691299bb00"
      },
      "execution_count": null,
      "outputs": [
        {
          "output_type": "stream",
          "name": "stdout",
          "text": [
            "1281\n",
            "559\n"
          ]
        }
      ]
    },
    {
      "cell_type": "code",
      "source": [
        "diminui_224x224_mix_data_novo(data_dir_novo_normais,dest_dir+'/normais',0.054)"
      ],
      "metadata": {
        "colab": {
          "base_uri": "https://localhost:8080/"
        },
        "id": "Kw_zgNZOQW6M",
        "outputId": "9b262cfe-8dd9-4f3a-d0c8-664642eac34f"
      },
      "execution_count": null,
      "outputs": [
        {
          "output_type": "stream",
          "name": "stdout",
          "text": [
            "3270\n",
            "559\n"
          ]
        }
      ]
    },
    {
      "cell_type": "code",
      "source": [
        "diminui_224x224_mix_data_novo(data_dir_novo_tuberculose,dest_dir+'/tuberculose',1.0)"
      ],
      "metadata": {
        "colab": {
          "base_uri": "https://localhost:8080/"
        },
        "id": "DlJqgc5kQW_n",
        "outputId": "7c7c2542-7737-4565-fa07-43c6c47b9164"
      },
      "execution_count": null,
      "outputs": [
        {
          "output_type": "stream",
          "name": "stdout",
          "text": [
            "394\n",
            "559\n"
          ]
        }
      ]
    }
  ]
}