{
  "nbformat": 4,
  "nbformat_minor": 0,
  "metadata": {
    "colab": {
      "provenance": [],
      "authorship_tag": "ABX9TyND3UH6tudqaNpzULyJYC6w",
      "include_colab_link": true
    },
    "kernelspec": {
      "name": "python3",
      "display_name": "Python 3"
    },
    "language_info": {
      "name": "python"
    },
    "gpuClass": "standard"
  },
  "cells": [
    {
      "cell_type": "markdown",
      "metadata": {
        "id": "view-in-github",
        "colab_type": "text"
      },
      "source": [
        "<a href=\"https://colab.research.google.com/github/mauks37/CNN_RX_torax/blob/main/Dimiuir_224x224_mix_data_2.ipynb\" target=\"_parent\"><img src=\"https://colab.research.google.com/assets/colab-badge.svg\" alt=\"Open In Colab\"/></a>"
      ]
    },
    {
      "cell_type": "code",
      "metadata": {
        "id": "kW5tOP0hQBZu"
      },
      "source": [
        "import numpy as np\n",
        "import matplotlib.pyplot as plt\n",
        "from matplotlib.image import imread\n",
        "import tensorflow as tf\n",
        "import cv2\n",
        "import random"
      ],
      "execution_count": null,
      "outputs": []
    },
    {
      "cell_type": "code",
      "metadata": {
        "colab": {
          "base_uri": "https://localhost:8080/"
        },
        "id": "b5qWqDjEQRX-",
        "outputId": "23c03d20-009c-40fd-e250-bd7be798ec0c"
      },
      "source": [
        "from google.colab import drive\n",
        "drive.mount('/content/drive')"
      ],
      "execution_count": null,
      "outputs": [
        {
          "output_type": "stream",
          "name": "stdout",
          "text": [
            "Mounted at /content/drive\n"
          ]
        }
      ]
    },
    {
      "cell_type": "markdown",
      "source": [
        "Diretórios do banco HCFMRP com imagens das 4 classes"
      ],
      "metadata": {
        "id": "sI1qf_XDerY5"
      }
    },
    {
      "cell_type": "code",
      "source": [
        "data_dir = '/content/drive/My Drive/Colab Notebooks/Mestrado final/RXT nosso'\n",
        "dest_dir = '/content/drive/My Drive/Colab Notebooks/Mestrado final/RXT 224x224 mix_data_2'"
      ],
      "metadata": {
        "id": "JCJKJmJrQRpO"
      },
      "execution_count": null,
      "outputs": []
    },
    {
      "cell_type": "markdown",
      "source": [
        "Diminuindo o tamanho das imagens do banco HCFMRP para 224x224 pixels"
      ],
      "metadata": {
        "id": "143iVlAgezGl"
      }
    },
    {
      "cell_type": "code",
      "source": [
        "def diminui_224x224_nl (dir_origem, dir_destino, class_dir_name):\n",
        "\n",
        "  images_names = tf.io.gfile.listdir(dir_origem+'/'+class_dir_name)\n",
        "\n",
        "  for i in images_names:\n",
        "    img = cv2.imread(dir_origem+'/'+class_dir_name+'/'+i)\n",
        "    img = cv2.resize(img, (224, 224))\n",
        "    cv2.imwrite(dir_destino+'/'+class_dir_name+'/'+i, img)\n",
        "\n",
        "  print(len(tf.io.gfile.listdir(dir_origem+'/'+class_dir_name)))\n",
        "  print(len(tf.io.gfile.listdir(dir_destino+'/'+class_dir_name)))"
      ],
      "metadata": {
        "id": "WfQwje8abpBh"
      },
      "execution_count": null,
      "outputs": []
    },
    {
      "cell_type": "code",
      "source": [
        "diminui_224x224_nl(data_dir,dest_dir,'covid')"
      ],
      "metadata": {
        "id": "SmePzobCQRud",
        "colab": {
          "base_uri": "https://localhost:8080/"
        },
        "outputId": "ad40adc7-8689-434e-adf5-8dbf65bba871"
      },
      "execution_count": null,
      "outputs": [
        {
          "output_type": "stream",
          "name": "stdout",
          "text": [
            "189\n",
            "189\n"
          ]
        }
      ]
    },
    {
      "cell_type": "code",
      "source": [
        "diminui_224x224_nl(data_dir,dest_dir,'dip')"
      ],
      "metadata": {
        "id": "JgW2rHSoTCYw",
        "colab": {
          "base_uri": "https://localhost:8080/"
        },
        "outputId": "f0805764-a5ef-4c89-bace-e6d974491e97"
      },
      "execution_count": null,
      "outputs": [
        {
          "output_type": "stream",
          "name": "stdout",
          "text": [
            "308\n",
            "308\n"
          ]
        }
      ]
    },
    {
      "cell_type": "code",
      "source": [
        "diminui_224x224_nl(data_dir,dest_dir,'normais')"
      ],
      "metadata": {
        "id": "-sLc0s_OQRxf",
        "colab": {
          "base_uri": "https://localhost:8080/"
        },
        "outputId": "908c5db9-1da7-4056-b36c-715a2e329b60"
      },
      "execution_count": null,
      "outputs": [
        {
          "output_type": "stream",
          "name": "stdout",
          "text": [
            "382\n",
            "382\n"
          ]
        }
      ]
    },
    {
      "cell_type": "code",
      "source": [
        "diminui_224x224_nl(data_dir,dest_dir,'tuberculose')"
      ],
      "metadata": {
        "id": "dJPXeBbC4wh5",
        "colab": {
          "base_uri": "https://localhost:8080/"
        },
        "outputId": "b1979dae-a066-431b-9fdd-cd8f7a31a03d"
      },
      "execution_count": null,
      "outputs": [
        {
          "output_type": "stream",
          "name": "stdout",
          "text": [
            "165\n",
            "165\n"
          ]
        }
      ]
    },
    {
      "cell_type": "markdown",
      "source": [
        "Diretório do banco Curated COVID-19 com as imagens de Covid-19"
      ],
      "metadata": {
        "id": "l-C4P-YqfAYf"
      }
    },
    {
      "cell_type": "code",
      "source": [
        "data_dir_novo_covid = '/content/drive/My Drive/Colab Notebooks/Mestrado final/Curated X-Ray Dataset COVID/covid'"
      ],
      "metadata": {
        "id": "X1pEKHVIPxjy"
      },
      "execution_count": null,
      "outputs": []
    },
    {
      "cell_type": "markdown",
      "source": [
        "Diretório do banco Curated COVID-19 com as imagens normais"
      ],
      "metadata": {
        "id": "UsOaQDkEfIOa"
      }
    },
    {
      "cell_type": "code",
      "source": [
        "data_dir_novo_normais = '/content/drive/My Drive/Colab Notebooks/Mestrado final/Curated X-Ray Dataset normais/normais'"
      ],
      "metadata": {
        "id": "gETguB-APx6l"
      },
      "execution_count": 1,
      "outputs": []
    },
    {
      "cell_type": "markdown",
      "source": [
        "Diretório dos bancos MC e Shenzhen com imagens de tuberculose"
      ],
      "metadata": {
        "id": "o2hEvZ7lf9gp"
      }
    },
    {
      "cell_type": "code",
      "source": [
        "data_dir_novo_tuberculose = '/content/drive/My Drive/Colab Notebooks/Mestrado final/Mont-Shen Dataset TB'"
      ],
      "metadata": {
        "id": "dN1SYN0pPx_g"
      },
      "execution_count": null,
      "outputs": []
    },
    {
      "cell_type": "markdown",
      "source": [
        "Diminuindo o tamanho das imagens, colcoar porcentagem do total de imagens, para escolher aleatoriamente."
      ],
      "metadata": {
        "id": "aA_vLlmQgVd5"
      }
    },
    {
      "cell_type": "code",
      "source": [
        "def diminui_224x224_mix_data_novo (dir_origem, dir_destino, novo_perc):\n",
        "\n",
        "  images_names = tf.io.gfile.listdir(dir_origem)\n",
        "\n",
        "  cut_point = np.around(len(images_names)*novo_perc).astype(int)\n",
        "\n",
        "  random.shuffle(images_names)\n",
        "\n",
        "  images = images_names[:cut_point]\n",
        "\n",
        "  for i in images:\n",
        "    img = cv2.imread(dir_origem+'/'+i)\n",
        "    img = cv2.resize(img, (224, 224))\n",
        "    cv2.imwrite(dir_destino+'/'+'N'+i, img)\n",
        "\n",
        "  print(len(tf.io.gfile.listdir(dir_origem)))\n",
        "  print(len(tf.io.gfile.listdir(dir_destino)))"
      ],
      "metadata": {
        "id": "9iB8nysmPh2I"
      },
      "execution_count": null,
      "outputs": []
    },
    {
      "cell_type": "code",
      "source": [
        "diminui_224x224_mix_data_novo(data_dir_novo_covid,dest_dir+'/covid',0.289)"
      ],
      "metadata": {
        "colab": {
          "base_uri": "https://localhost:8080/"
        },
        "id": "cQYYxSTUPrE-",
        "outputId": "25eee6ff-5da4-4162-b661-80691299bb00"
      },
      "execution_count": null,
      "outputs": [
        {
          "output_type": "stream",
          "name": "stdout",
          "text": [
            "1281\n",
            "559\n"
          ]
        }
      ]
    },
    {
      "cell_type": "code",
      "source": [
        "diminui_224x224_mix_data_novo(data_dir_novo_normais,dest_dir+'/normais',0.054)"
      ],
      "metadata": {
        "colab": {
          "base_uri": "https://localhost:8080/"
        },
        "id": "Kw_zgNZOQW6M",
        "outputId": "9b262cfe-8dd9-4f3a-d0c8-664642eac34f"
      },
      "execution_count": null,
      "outputs": [
        {
          "output_type": "stream",
          "name": "stdout",
          "text": [
            "3270\n",
            "559\n"
          ]
        }
      ]
    },
    {
      "cell_type": "code",
      "source": [
        "diminui_224x224_mix_data_novo(data_dir_novo_tuberculose,dest_dir+'/tuberculose',1.0)"
      ],
      "metadata": {
        "colab": {
          "base_uri": "https://localhost:8080/"
        },
        "id": "DlJqgc5kQW_n",
        "outputId": "7c7c2542-7737-4565-fa07-43c6c47b9164"
      },
      "execution_count": null,
      "outputs": [
        {
          "output_type": "stream",
          "name": "stdout",
          "text": [
            "394\n",
            "559\n"
          ]
        }
      ]
    }
  ]
}